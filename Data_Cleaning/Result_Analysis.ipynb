{
  "cells": [
    {
      "cell_type": "code",
      "execution_count": null,
      "metadata": {
        "id": "EPzRdhA0-KTK"
      },
      "outputs": [],
      "source": [
        "import numpy as np\n",
        "import pandas as pd\n",
        "import matplotlib.pyplot as plt\n",
        "import seaborn as sns"
      ]
    },
    {
      "cell_type": "code",
      "execution_count": null,
      "metadata": {
        "id": "wCA4AfUv-fdc"
      },
      "outputs": [],
      "source": [
        "df = pd.read_csv('/content/AI I Autumn 23-24 (1).csv')"
      ]
    },
    {
      "cell_type": "code",
      "execution_count": null,
      "metadata": {
        "colab": {
          "base_uri": "https://localhost:8080/",
          "height": 1000
        },
        "id": "R7pAoyUs-qTA",
        "outputId": "edcbfd94-ca5a-4683-bd06-2c692e45dda9"
      },
      "outputs": [],
      "source": [
        "df"
      ]
    },
    {
      "cell_type": "code",
      "execution_count": null,
      "metadata": {
        "colab": {
          "base_uri": "https://localhost:8080/",
          "height": 187
        },
        "id": "NGvP86E9y01K",
        "outputId": "05d11d86-b5ab-458c-d57e-924885a4a87a"
      },
      "outputs": [],
      "source": [
        "df.head(1)"
      ]
    },
    {
      "cell_type": "code",
      "execution_count": null,
      "metadata": {
        "colab": {
          "base_uri": "https://localhost:8080/",
          "height": 521
        },
        "id": "An5dK9vty91A",
        "outputId": "222526c3-4d65-4d28-94a2-d4e7e2205a00"
      },
      "outputs": [],
      "source": [
        "df.tail()"
      ]
    },
    {
      "cell_type": "code",
      "execution_count": null,
      "metadata": {
        "colab": {
          "base_uri": "https://localhost:8080/"
        },
        "id": "YebXS5w6-t5e",
        "outputId": "370929bb-c61f-40f0-89a3-4ad6440744cf"
      },
      "outputs": [],
      "source": [
        "df.info()"
      ]
    },
    {
      "cell_type": "code",
      "execution_count": null,
      "metadata": {
        "colab": {
          "base_uri": "https://localhost:8080/"
        },
        "id": "ZCj3i6N0-zBh",
        "outputId": "1ee19122-f843-4009-ff05-3c7d4edc7610"
      },
      "outputs": [],
      "source": [
        "df.shape"
      ]
    },
    {
      "cell_type": "code",
      "execution_count": null,
      "metadata": {
        "colab": {
          "base_uri": "https://localhost:8080/",
          "height": 300
        },
        "id": "s6CrBeFs-4AD",
        "outputId": "dc52e419-8642-43ed-f076-6cbd27fa0b52"
      },
      "outputs": [],
      "source": [
        "df.describe()"
      ]
    },
    {
      "cell_type": "code",
      "execution_count": null,
      "metadata": {
        "id": "yXRhyoZAzPzA"
      },
      "outputs": [],
      "source": []
    },
    {
      "cell_type": "code",
      "execution_count": null,
      "metadata": {
        "colab": {
          "base_uri": "https://localhost:8080/",
          "height": 281
        },
        "id": "G8A16V1p-9JX",
        "outputId": "7faf0488-32ca-4954-e62d-1a83d952dbab"
      },
      "outputs": [],
      "source": [
        "df.describe(include=\"object\")"
      ]
    },
    {
      "cell_type": "code",
      "execution_count": null,
      "metadata": {
        "colab": {
          "base_uri": "https://localhost:8080/"
        },
        "id": "5ekypfpJ_Jxw",
        "outputId": "4aa6da08-290d-49b4-f849-7252edbfd542"
      },
      "outputs": [],
      "source": [
        "df.isnull().sum()"
      ]
    },
    {
      "cell_type": "code",
      "execution_count": null,
      "metadata": {
        "id": "umTH2r5aAQce"
      },
      "outputs": [],
      "source": [
        "df.dropna(inplace=True)"
      ]
    },
    {
      "cell_type": "code",
      "execution_count": null,
      "metadata": {
        "colab": {
          "base_uri": "https://localhost:8080/"
        },
        "id": "ee_Da8e3AWMH",
        "outputId": "adc5cb39-1fc6-4f9d-b478-d7dd74879a8c"
      },
      "outputs": [],
      "source": [
        "df.isnull().sum()"
      ]
    },
    {
      "cell_type": "code",
      "execution_count": null,
      "metadata": {
        "colab": {
          "base_uri": "https://localhost:8080/",
          "height": 354
        },
        "id": "EMl9QmQYBM91",
        "outputId": "4431c131-3d9b-458c-9faa-d6decf40e3ff"
      },
      "outputs": [],
      "source": [
        "df.iloc[0:3]"
      ]
    },
    {
      "cell_type": "code",
      "execution_count": null,
      "metadata": {
        "colab": {
          "base_uri": "https://localhost:8080/",
          "height": 430
        },
        "id": "gf1cYzCS2NOZ",
        "outputId": "82208797-204d-4d15-8427-960e31383260"
      },
      "outputs": [],
      "source": [
        "plt.bar(df['Student Name'],df['CGPA'])\n",
        "plt.show()"
      ]
    },
    {
      "cell_type": "code",
      "execution_count": null,
      "metadata": {
        "colab": {
          "base_uri": "https://localhost:8080/"
        },
        "id": "yve37skz_px8",
        "outputId": "440e8df4-2f69-4d89-b6bb-dac7243bb680"
      },
      "outputs": [],
      "source": [
        "df.columns"
      ]
    },
    {
      "cell_type": "markdown",
      "metadata": {
        "id": "waeLx4QsEuBE"
      },
      "source": []
    },
    {
      "cell_type": "code",
      "execution_count": null,
      "metadata": {
        "id": "9IoRmOG3DkR4"
      },
      "outputs": [],
      "source": [
        "# performing EDA\n",
        "# to more information about dataset"
      ]
    },
    {
      "cell_type": "code",
      "execution_count": null,
      "metadata": {
        "id": "Xpfa2raFDvTX"
      },
      "outputs": [],
      "source": [
        "# 1.) Univariate Analysis"
      ]
    },
    {
      "cell_type": "code",
      "execution_count": null,
      "metadata": {
        "id": "HJh6eXm3XkDu"
      },
      "outputs": [],
      "source": [
        "df['Gender'].replace({'Female':0,'Male':1},inplace =True)"
      ]
    },
    {
      "cell_type": "code",
      "execution_count": null,
      "metadata": {
        "id": "OswJmvfv4Oup"
      },
      "outputs": [],
      "source": [
        "# Here i replace Male = 1 and Female = 0"
      ]
    },
    {
      "cell_type": "code",
      "execution_count": null,
      "metadata": {
        "colab": {
          "base_uri": "https://localhost:8080/"
        },
        "id": "q64TQtg4zDbI",
        "outputId": "c06a62c1-baac-4dd4-bcc6-2d4a15deec5b"
      },
      "outputs": [],
      "source": [
        "df['Gender'].value_counts()"
      ]
    },
    {
      "cell_type": "code",
      "execution_count": null,
      "metadata": {
        "colab": {
          "base_uri": "https://localhost:8080/",
          "height": 428
        },
        "id": "fJ6sLa_e2td6",
        "outputId": "2166f8e0-d97d-4eb0-fd51-b236d5975a23"
      },
      "outputs": [],
      "source": [
        "plt.pie(df['Gender'].value_counts(),startangle=90,counterclock=False,wedgeprops={\"edgecolor\":\"black\"},autopct=\"%0.2f%%\",radius=1,explode=[0,0.1],labels =(\"Male\",\"Female\"))\n",
        "plt.legend(loc=\"upper right\")\n",
        "plt.title(\"Density Of Students(Male VS Female)\")\n",
        "plt.show()"
      ]
    },
    {
      "cell_type": "code",
      "execution_count": null,
      "metadata": {
        "id": "B29HFill4bGQ"
      },
      "outputs": [],
      "source": [
        "# we got to know that percentage of male is greater than the percentage of Female"
      ]
    },
    {
      "cell_type": "code",
      "execution_count": null,
      "metadata": {
        "colab": {
          "base_uri": "https://localhost:8080/"
        },
        "id": "33wNL-Co9DaJ",
        "outputId": "08f14df3-89d5-41e3-f457-c50dbe26803a"
      },
      "outputs": [],
      "source": [
        "df['Category'].value_counts()"
      ]
    },
    {
      "cell_type": "code",
      "execution_count": null,
      "metadata": {
        "colab": {
          "base_uri": "https://localhost:8080/",
          "height": 406
        },
        "id": "gQllVJtx9n7a",
        "outputId": "6ae9edab-6eca-449c-fa97-5a2f60f98ed0"
      },
      "outputs": [],
      "source": [
        "plt.pie(df['Category'].value_counts(),startangle=90,counterclock=False,wedgeprops={\"edgecolor\":\"black\"},autopct=\"%0.2f%%\",labels=(\"OBC\",\"GEN\",\"SC\"),explode=(0.05,0,0))\n",
        "plt.legend(loc=\"upper right\")\n",
        "plt.show()"
      ]
    },
    {
      "cell_type": "code",
      "execution_count": null,
      "metadata": {
        "id": "9fEK8LdC_P6u"
      },
      "outputs": [],
      "source": [
        "# As we can see in the graph that Category \"OBC\" is more as compare to others"
      ]
    },
    {
      "cell_type": "code",
      "execution_count": null,
      "metadata": {
        "colab": {
          "base_uri": "https://localhost:8080/",
          "height": 406
        },
        "id": "1opK7AZ-__1E",
        "outputId": "9dd2f5fc-094c-43b2-92bc-077a86360088"
      },
      "outputs": [],
      "source": [
        "plt.pie(df['Student Status'].value_counts(),startangle=90,counterclock=False,autopct=\"%0.2f%%\",wedgeprops={\"edgecolor\":\"black\"},labels=(\"REGULAR\",\"Ex\"),explode=(0.0,0.1))\n",
        "plt.legend(loc=\"upper right\")\n",
        "plt.show()"
      ]
    },
    {
      "cell_type": "code",
      "execution_count": null,
      "metadata": {
        "colab": {
          "base_uri": "https://localhost:8080/",
          "height": 523
        },
        "id": "kszX1s9FBmbT",
        "outputId": "f6b2e33b-c55f-4a4a-cbf3-03c9dc2cab1c"
      },
      "outputs": [],
      "source": [
        "sns.displot(df['SGPA'])"
      ]
    },
    {
      "cell_type": "code",
      "execution_count": null,
      "metadata": {
        "id": "-cPZu088B5-D"
      },
      "outputs": [],
      "source": [
        "# we got to know that most of student got 7.0 SGPA"
      ]
    },
    {
      "cell_type": "code",
      "execution_count": null,
      "metadata": {
        "colab": {
          "base_uri": "https://localhost:8080/",
          "height": 523
        },
        "id": "nSux8LP7DU0o",
        "outputId": "b5bd9a8b-e1dd-4a1e-e9fc-79fe48feb0ae"
      },
      "outputs": [],
      "source": [
        "sns.displot(df['CGPA'])"
      ]
    },
    {
      "cell_type": "code",
      "execution_count": null,
      "metadata": {
        "id": "dutpYv9iDd_n"
      },
      "outputs": [],
      "source": [
        "# we got to know that most of student got 7.0 CGPA"
      ]
    },
    {
      "cell_type": "code",
      "execution_count": null,
      "metadata": {
        "id": "f98AsazUD2cm"
      },
      "outputs": [],
      "source": [
        "# 2.) Bivariate analysis"
      ]
    },
    {
      "cell_type": "code",
      "execution_count": null,
      "metadata": {
        "colab": {
          "base_uri": "https://localhost:8080/",
          "height": 909
        },
        "id": "-lm8dnCnEF2a",
        "outputId": "2952adde-3c7b-46ef-fe73-b86d34a3facb"
      },
      "outputs": [],
      "source": [
        "df.groupby('Student Name')['CGPA'].value_counts().unstack().plot(kind=\"bar\",stacked=True)"
      ]
    },
    {
      "cell_type": "code",
      "execution_count": null,
      "metadata": {
        "id": "lDGu1G_uFLZN"
      },
      "outputs": [],
      "source": [
        "# This  graph represent students name with their CGPA"
      ]
    },
    {
      "cell_type": "code",
      "execution_count": null,
      "metadata": {
        "colab": {
          "base_uri": "https://localhost:8080/",
          "height": 909
        },
        "id": "4j6OyODpF5yW",
        "outputId": "a709f994-b6fa-4c7c-e5c1-3e91beebb16d"
      },
      "outputs": [],
      "source": [
        "df.groupby('Student Name')['SGPA'].value_counts().unstack().plot(kind=\"bar\",stacked=True)"
      ]
    },
    {
      "cell_type": "code",
      "execution_count": null,
      "metadata": {
        "id": "IAAmoCbkF_2l"
      },
      "outputs": [],
      "source": [
        "# This  graph represent students name with their SGPA"
      ]
    },
    {
      "cell_type": "code",
      "execution_count": null,
      "metadata": {
        "colab": {
          "base_uri": "https://localhost:8080/",
          "height": 752
        },
        "id": "JAsHdhsEGLrE",
        "outputId": "ff6861a1-a9dd-4be0-f959-9beb59b5ea67"
      },
      "outputs": [],
      "source": [
        "df.groupby('Category')['CGPA'].value_counts().unstack().plot(kind=\"bar\")"
      ]
    },
    {
      "cell_type": "code",
      "execution_count": null,
      "metadata": {
        "id": "vcoe1ls7_zSe"
      },
      "outputs": [],
      "source": [
        "# Thank You"
      ]
    }
  ],
  "metadata": {
    "colab": {
      "provenance": []
    },
    "kernelspec": {
      "display_name": "Python 3",
      "name": "python3"
    },
    "language_info": {
      "codemirror_mode": {
        "name": "ipython",
        "version": 3
      },
      "file_extension": ".py",
      "mimetype": "text/x-python",
      "name": "python",
      "nbconvert_exporter": "python",
      "pygments_lexer": "ipython3",
      "version": "3.12.4"
    }
  },
  "nbformat": 4,
  "nbformat_minor": 0
}
